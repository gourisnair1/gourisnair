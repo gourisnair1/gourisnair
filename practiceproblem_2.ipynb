{
  "nbformat": 4,
  "nbformat_minor": 0,
  "metadata": {
    "colab": {
      "provenance": []
    },
    "kernelspec": {
      "name": "python3",
      "display_name": "Python 3"
    },
    "language_info": {
      "name": "python"
    }
  },
  "cells": [
    {
      "cell_type": "code",
      "execution_count": 6,
      "metadata": {
        "colab": {
          "base_uri": "https://localhost:8080/"
        },
        "id": "4gi4JN0QQCMy",
        "outputId": "c5ef9a21-032f-4e97-9300-7b937156b87c"
      },
      "outputs": [
        {
          "output_type": "stream",
          "name": "stdout",
          "text": [
            "Enter a string value: HJGUIGUIHJHhiuhi\n",
            "{'h': 5, 'j': 2, 'g': 2, 'u': 3, 'i': 4}\n"
          ]
        }
      ],
      "source": [
        "a=5\n",
        "#1. Write a Python program to accept a string value from the user and display\n",
        "#the count of each character in that string. Sample input: Enter a string\n",
        "#value: assembly Sample output: a=1, s=2, e=1, m=1, b=1, l=1, y=1\n",
        "word=str(input(\"Enter a string value: \")).lower()\n",
        "w={}\n",
        "for i in word:\n",
        "  if i in w:\n",
        "    w[i]+=1\n",
        "  else:\n",
        "    w[i]=1\n",
        "print(w)\n",
        "\n"
      ]
    },
    {
      "cell_type": "code",
      "source": [
        "#2. Write a Python function to find the maximum of three numbers\n",
        "#Sample input: 34,12,7 Sample output: 34\n",
        "list=[]\n",
        "for i in range(3):\n",
        "  num=int(input(f\"Enter the {i+1} number: \"))\n",
        "  list.append(num)\n",
        "\n",
        "print(\"The Maximum of three numbers is: \", max(list) )"
      ],
      "metadata": {
        "colab": {
          "base_uri": "https://localhost:8080/"
        },
        "id": "jpvRTA8dUb5P",
        "outputId": "ef1207de-4741-4869-d559-58a9400d1398"
      },
      "execution_count": 7,
      "outputs": [
        {
          "output_type": "stream",
          "name": "stdout",
          "text": [
            "Enter the 1 number: 35\n",
            "Enter the 2 number: 456\n",
            "Enter the 3 number: 11\n",
            "The Maximum of three numbers is:  456\n"
          ]
        }
      ]
    },
    {
      "cell_type": "code",
      "source": [
        "#3. Write a Python function called exponent(base,exp) that returns an\n",
        "#integer value of base raises to the power of exp. Sample input: Enter the\n",
        "#base: 2 Enter the exponent: 3 Sample output: 8\n",
        "def exponent(a,b):\n",
        "  if b !=0:\n",
        "    return a * exponent(a, b-1)\n",
        "  else:\n",
        "    return 1\n",
        "a=int(input(\"Enter the base: \"))\n",
        "b=int(input(\"Enter the exponent: \"))\n",
        "print(a,\"to the power\",b,\"is\", exponent(a,b))\n",
        "\n"
      ],
      "metadata": {
        "colab": {
          "base_uri": "https://localhost:8080/"
        },
        "id": "Iot5sfGgUzv4",
        "outputId": "5a5882b3-bd36-420e-a280-a3714fc527fa"
      },
      "execution_count": 23,
      "outputs": [
        {
          "output_type": "stream",
          "name": "stdout",
          "text": [
            "Enter the base: 5\n",
            "Enter the exponent: 3\n",
            "5 to the power 3 is 125\n"
          ]
        }
      ]
    },
    {
      "cell_type": "code",
      "source": [
        "#4.  Write a Python function that takes a positive integer and returns the sum\n",
        "#of the cube of all the positive integers smaller than the specified number.\n",
        "#Sample input: 4 Sample output: 36.\n",
        "def sum_of_cubes(n):\n",
        "  n -= 1\n",
        "  total = 0\n",
        "  while n > 0:\n",
        "    total += n*n*n\n",
        "    n -= 1\n",
        "  return total\n",
        "a=int(input(\"Enter a positive integer: \"))\n",
        "print(\"Sum of cubes= \", sum_of_cubes(a))\n"
      ],
      "metadata": {
        "id": "lVLFzis7wTls",
        "outputId": "3375af8c-b48e-406a-811c-53fc91934096",
        "colab": {
          "base_uri": "https://localhost:8080/"
        }
      },
      "execution_count": 56,
      "outputs": [
        {
          "output_type": "stream",
          "name": "stdout",
          "text": [
            "Enter a positive integer: 4\n",
            "Sum of cubes=  36\n"
          ]
        }
      ]
    },
    {
      "cell_type": "code",
      "source": [
        "#5. Write a Python program which iterates from 1 to 10. For multiples of 2,\n",
        "#print “Fizz” instead of the number and for the multiples of 5, print “Buzz”.\n",
        "#For numbers which are multiples of both 2 and 5, print “FizzBuzz”.\n",
        "#Sample input: numbers from 1 to 10 Sample output: 1 Fizz 3 Fizz Buzz\n",
        "#Fizz 7 Fizz 9 FizzBuzz\n",
        "n = int(input(\"Enter a number to iterate: \"))\n",
        "for i in range(1,n+1):\n",
        "  if i%2==0 and i%5 == 0:\n",
        "      print(\"FizzBuzz\")\n",
        "  elif i%5 == 0:\n",
        "    print(\"Buzz\")\n",
        "  elif i%2 == 0:\n",
        "    print(\"Fizz\")\n",
        "  else:\n",
        "    print(i)\n"
      ],
      "metadata": {
        "id": "Yuj5zmmUyTKc",
        "outputId": "5ae35bae-521d-4794-f03f-07ec1bca51f2",
        "colab": {
          "base_uri": "https://localhost:8080/"
        }
      },
      "execution_count": 35,
      "outputs": [
        {
          "output_type": "stream",
          "name": "stdout",
          "text": [
            "Enter a number to iterate: 10\n",
            "1\n",
            "Fizz\n",
            "3\n",
            "Fizz\n",
            "Buzz\n",
            "Fizz\n",
            "7\n",
            "Fizz\n",
            "9\n",
            "FizzBuzz\n"
          ]
        }
      ]
    },
    {
      "cell_type": "code",
      "source": [
        "#6. Write a Python program to find the most frequent item in a list of\n",
        "#numbers. Sample input: 2, 3, 4, 2, 5, 2 Sample output: 2\n",
        "\n",
        "def most_frequent(List):\n",
        "    counter = 0\n",
        "    num = List[0]\n",
        "\n",
        "    for i in List:\n",
        "        curr_frequency = List.count(i)\n",
        "        if(curr_frequency> counter):\n",
        "            counter = curr_frequency\n",
        "            num = i\n",
        "\n",
        "    return num\n",
        "\n",
        "List = [2, 3, 4, 2, 5, 2]\n",
        "print(most_frequent(List))"
      ],
      "metadata": {
        "id": "e79Uerse0gf4",
        "outputId": "8cb75730-7f32-4114-91ae-ce306566b31a",
        "colab": {
          "base_uri": "https://localhost:8080/"
        }
      },
      "execution_count": 37,
      "outputs": [
        {
          "output_type": "stream",
          "name": "stdout",
          "text": [
            "2\n"
          ]
        }
      ]
    },
    {
      "cell_type": "code",
      "source": [
        "#7. Write a Python program to find the sum of squares of the numbers in a\n",
        "#list. Sample input: 2,1,3,1 Sample output: 15\n",
        "l=[2,1,3,1];\n",
        "sum=0\n",
        "\n",
        "for i in l:\n",
        "    sum+=i*i;\n",
        "print(sum)\n"
      ],
      "metadata": {
        "id": "jcyJPPUo1Plb",
        "outputId": "03b335d6-ee8e-4a45-e9d6-651bafee06a6",
        "colab": {
          "base_uri": "https://localhost:8080/"
        }
      },
      "execution_count": 41,
      "outputs": [
        {
          "output_type": "stream",
          "name": "stdout",
          "text": [
            "15\n"
          ]
        }
      ]
    },
    {
      "cell_type": "code",
      "source": [
        "#8. Write a Python program using for loop that will iterate from 1 to 15. For\n",
        "#each iteration, check if the current number is odd or even, and display the\n",
        "#message to the screen as odd or even. Sample input: 1….15 Sample\n",
        "#output: 1-odd 2-even …. 15-odd\n",
        "r=int(input(\"Enter a number: \"))\n",
        "for i in range(1,r+1):\n",
        "  if i%2 == 0:\n",
        "    print(i, \"-even\")\n",
        "  else:\n",
        "    print(i, \"-odd\")\n"
      ],
      "metadata": {
        "id": "26S5TiOX-jlK",
        "outputId": "c092a6d5-db8e-4ff5-bfdb-e3e4b73d1697",
        "colab": {
          "base_uri": "https://localhost:8080/"
        }
      },
      "execution_count": 47,
      "outputs": [
        {
          "output_type": "stream",
          "name": "stdout",
          "text": [
            "Enter a number: 15\n",
            "1 -odd\n",
            "2 -even\n",
            "3 -odd\n",
            "4 -even\n",
            "5 -odd\n",
            "6 -even\n",
            "7 -odd\n",
            "8 -even\n",
            "9 -odd\n",
            "10 -even\n",
            "11 -odd\n",
            "12 -even\n",
            "13 -odd\n",
            "14 -even\n",
            "15 -odd\n"
          ]
        }
      ]
    },
    {
      "cell_type": "code",
      "source": [
        "#9. Write a Python program to convert temperatures to and from Celsius\n",
        "#Fahrenheit. [Formula: c/5=f-32/9 where c=temperature in Celsius and f=\n",
        "#temperature in Fahrenheit.] Sample input: Temperature in Fahrenheit\n",
        "#=41 Sample output: Temperature in Celsius =5\n",
        "f=int(input(\"Temperature in fahrenheit: \"))\n",
        "c=(5/9)*(f-32)\n",
        "print(\"Temperature in celsius = \", c)\n"
      ],
      "metadata": {
        "id": "YpTEd1DDCPmB",
        "outputId": "96751023-9caf-40c7-e1ea-e2e10a6764f7",
        "colab": {
          "base_uri": "https://localhost:8080/"
        }
      },
      "execution_count": 57,
      "outputs": [
        {
          "output_type": "stream",
          "name": "stdout",
          "text": [
            "Temperature in fahrenheit: 41\n",
            "Temperature in celsius =  5.0\n"
          ]
        }
      ]
    },
    {
      "cell_type": "code",
      "source": [
        "#10. Write a Python function to calculate the factorial of a number (a\n",
        "#nonnegative integer). The function accepts the number as an argument.\n",
        "#Sample input: 3 Sample output: 6\n",
        "def fact (n) :\n",
        "    if n== num +1 :\n",
        "        return 1\n",
        "    else :\n",
        "        return n*fact(n+1)\n",
        "num = int(input(\"Enter a number :-\"))\n",
        "print(\"Factorial =\",fact(1))"
      ],
      "metadata": {
        "id": "9eLj0S5DDTlf",
        "outputId": "f622e3ca-fd75-47dc-9923-e573b92db7bc",
        "colab": {
          "base_uri": "https://localhost:8080/"
        }
      },
      "execution_count": 54,
      "outputs": [
        {
          "output_type": "stream",
          "name": "stdout",
          "text": [
            "Enter a number :-5\n",
            "Factorial = 120\n"
          ]
        }
      ]
    }
  ]
}