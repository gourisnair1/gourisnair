{
  "nbformat": 4,
  "nbformat_minor": 0,
  "metadata": {
    "colab": {
      "provenance": []
    },
    "kernelspec": {
      "name": "python3",
      "display_name": "Python 3"
    },
    "language_info": {
      "name": "python"
    }
  },
  "cells": [
    {
      "cell_type": "code",
      "execution_count": null,
      "metadata": {
        "colab": {
          "base_uri": "https://localhost:8080/"
        },
        "id": "xFpQQwCkdnX7",
        "outputId": "90ae538e-242e-4895-a93e-2c623d3c0f3e"
      },
      "outputs": [
        {
          "output_type": "stream",
          "name": "stdout",
          "text": [
            "Enter the radius of the circle= 1\n",
            "Area of circle=  3.14 square units\n"
          ]
        }
      ],
      "source": [
        "#Problem 1\n",
        "#Write a Python program which accepts the radius of a circle from the user\n",
        "#and compute the area.\n",
        "radius=float(input(\"Enter the radius of the circle= \"))\n",
        "area=3.14*radius*radius\n",
        "print(\"Area of circle= \",area,\"square units\")\n"
      ]
    },
    {
      "cell_type": "code",
      "source": [
        "#Problem 2\n",
        "#Write a Python Program to accept the details of a student like name, roll number and mark and display it.\n",
        "\n",
        "name=str(input(\"Enter the Name: \"))\n",
        "roll=int(input(\"Enter the Roll Number:\"))\n",
        "marks=int(input(\"Enter the marks:\"))\n",
        "print(\"Name : \",name,\"\\nROll Number: \",roll,\"\\nMarks obtained:\",marks)\n",
        "\n",
        "\n"
      ],
      "metadata": {
        "colab": {
          "base_uri": "https://localhost:8080/"
        },
        "id": "rZ5E-VUUjY2K",
        "outputId": "4ec1f412-1958-430d-af56-7f1586cff080"
      },
      "execution_count": null,
      "outputs": [
        {
          "output_type": "stream",
          "name": "stdout",
          "text": [
            "Enter the Name: Gouri\n",
            "Enter the Roll Number:75767\n",
            "Enter the marks:100\n",
            "Name :  Gouri \n",
            "ROll Number:  75767 \n",
            "Marks obtained: 100\n"
          ]
        }
      ]
    },
    {
      "cell_type": "code",
      "source": [
        "#Problem 3\n",
        "#Write a Python program to get the largest number from a list.\n",
        "#Sample input: 12, 3, 47, 10\n",
        "#Sample output: 47 is the largest number.\n",
        "list=[12,3,47,10]\n",
        "print(max(list), \"is the largest number.\")\n"
      ],
      "metadata": {
        "id": "9wopumCcmb6k",
        "colab": {
          "base_uri": "https://localhost:8080/"
        },
        "outputId": "de9de152-1839-4c54-e90e-11b8750de4b5"
      },
      "execution_count": 1,
      "outputs": [
        {
          "output_type": "stream",
          "name": "stdout",
          "text": [
            "47 is the largest number.\n"
          ]
        }
      ]
    },
    {
      "cell_type": "code",
      "source": [
        "#Problem 4\n",
        "#Given a range of first 10 numbers, write a Python program to iterate from start number to the end number\n",
        "#and print the sum of the current number and previous number.\n",
        "\n",
        "number=int(input(\"Enter a number=\"))\n",
        "for i in range (number):\n",
        "  print(\"Current Number=\",i+1,\"Previous Number=\",i,\"sum=\",(2*i)+1)\n",
        "  i=i+1\n",
        "\n"
      ],
      "metadata": {
        "id": "yC4Hq5p8lUSm",
        "colab": {
          "base_uri": "https://localhost:8080/"
        },
        "outputId": "3baec7f3-e299-48db-f439-81d1b32d044b"
      },
      "execution_count": 70,
      "outputs": [
        {
          "output_type": "stream",
          "name": "stdout",
          "text": [
            "Enter a number=10\n",
            "Current Number= 1 Previous Number= 0 sum= 1\n",
            "Current Number= 2 Previous Number= 1 sum= 3\n",
            "Current Number= 3 Previous Number= 2 sum= 5\n",
            "Current Number= 4 Previous Number= 3 sum= 7\n",
            "Current Number= 5 Previous Number= 4 sum= 9\n",
            "Current Number= 6 Previous Number= 5 sum= 11\n",
            "Current Number= 7 Previous Number= 6 sum= 13\n",
            "Current Number= 8 Previous Number= 7 sum= 15\n",
            "Current Number= 9 Previous Number= 8 sum= 17\n",
            "Current Number= 10 Previous Number= 9 sum= 19\n"
          ]
        }
      ]
    },
    {
      "cell_type": "code",
      "source": [
        "#Problem 5\n",
        "#Write a Python program to print only those numbers which are divisible of 5.\n",
        "\n",
        "list=[]\n",
        "for i in range(5):\n",
        "  number=int(input(f\"Enter the number {i+1}: \"))\n",
        "  list.append(number)\n",
        "print('Numbers divisible by 5 are: ')\n",
        "for n in list:\n",
        "  if n % 5 ==0:\n",
        "    print(n)\n"
      ],
      "metadata": {
        "id": "ZbUYj6_Hm53-",
        "colab": {
          "base_uri": "https://localhost:8080/"
        },
        "outputId": "05e201be-97dd-430c-b013-38e75e28a6b0"
      },
      "execution_count": 34,
      "outputs": [
        {
          "output_type": "stream",
          "name": "stdout",
          "text": [
            "Enter the number 1: 25\n",
            "Enter the number 2: 35\n",
            "Enter the number 3: 22\n",
            "Enter the number 4: 66\n",
            "Enter the number 5: 11\n",
            "Numbers divisible by 5 are: \n",
            "25\n",
            "35\n"
          ]
        }
      ]
    },
    {
      "cell_type": "code",
      "source": [
        "#Problem 6\n",
        "#Write a Python program to check whether a number is prime or not.\n",
        "\n",
        "num=int(input(\"Enter the number: \"))\n",
        "if num>1:\n",
        "  for i in range(2, int(num/2)+1):\n",
        "    if (num % i) == 0:\n",
        "      print(num, \"is not a prime number.\")\n",
        "      break\n",
        "  else:\n",
        "    print(num,\"is a prime number.\")\n",
        "else:\n",
        "  print(num,\"is not a prime number.\")"
      ],
      "metadata": {
        "id": "ZFQXOz_CnA0_",
        "colab": {
          "base_uri": "https://localhost:8080/"
        },
        "outputId": "06bb79c1-b029-4c9f-cda4-d6fe3f4ddeea"
      },
      "execution_count": 69,
      "outputs": [
        {
          "output_type": "stream",
          "name": "stdout",
          "text": [
            "Enter the number: 5\n",
            "5 is a prime number.\n"
          ]
        }
      ]
    },
    {
      "cell_type": "code",
      "source": [
        "#Problem 7\n",
        "#Write a Python program to reverse a list using for loop.\n",
        "\n",
        "list=[]\n",
        "for i in range(5):\n",
        "  number=int(input(f\"Enter the number {i+1}: \"))\n",
        "  list.append(number)\n",
        "list.reverse()\n",
        "print(\"List after reverse is:\",list)\n",
        "\n"
      ],
      "metadata": {
        "id": "Gn9DIdkVnI6A",
        "colab": {
          "base_uri": "https://localhost:8080/"
        },
        "outputId": "011240bb-35f6-4456-a589-c86f355507a7"
      },
      "execution_count": 37,
      "outputs": [
        {
          "output_type": "stream",
          "name": "stdout",
          "text": [
            "Enter the number 1: 5\n",
            "Enter the number 2: 4\n",
            "Enter the number 3: 3\n",
            "Enter the number 4: 2\n",
            "Enter the number 5: 1\n",
            "List after reverse is: [1, 2, 3, 4, 5]\n"
          ]
        }
      ]
    },
    {
      "cell_type": "code",
      "source": [
        "#Problem 8\n",
        "#Write a Python program to print the following pattern.\n",
        "def stars(n):\n",
        "  list=[]\n",
        "  for i in range(1,n+1):\n",
        "    list.append(\"*\"*i)\n",
        "  print(\"\\n\".join(list))\n",
        "n = 5\n",
        "stars(n)"
      ],
      "metadata": {
        "id": "WBgoAhktnOg_",
        "colab": {
          "base_uri": "https://localhost:8080/"
        },
        "outputId": "2eb21828-5e16-4e27-dcce-7cf8e5c1c967"
      },
      "execution_count": 42,
      "outputs": [
        {
          "output_type": "stream",
          "name": "stdout",
          "text": [
            "*\n",
            "**\n",
            "***\n",
            "****\n",
            "*****\n"
          ]
        }
      ]
    },
    {
      "cell_type": "code",
      "source": [
        "#Problem 9\n",
        "#Write a Python program to find the maximum of three numbers\n",
        "\n",
        "list=[]\n",
        "for i in range(3):\n",
        "  num=int(input(f\"Enter the {i+1} number: \"))\n",
        "  list.append(num)\n",
        "\n",
        "print(\"The Maximum of three numbers is: \", max(list) )\n",
        "\n",
        "\n",
        "\n"
      ],
      "metadata": {
        "id": "PY6UyatAnUru",
        "colab": {
          "base_uri": "https://localhost:8080/"
        },
        "outputId": "0faad5b4-c97d-47dd-9063-c0bf70656ad8"
      },
      "execution_count": 60,
      "outputs": [
        {
          "output_type": "stream",
          "name": "stdout",
          "text": [
            "Enter the 1 number: 99\n",
            "Enter the 2 number: 55\n",
            "Enter the 3 number: 1213132\n",
            "The Maximum of three numbers is:  1213132\n"
          ]
        }
      ]
    },
    {
      "cell_type": "code",
      "source": [
        "#Problem 10\n",
        "#Write a Python program to construct the following pattern, using a nested for loop.\n",
        "rows=6\n",
        "for i in range(0,rows):\n",
        "  for j in range(0,i+1):\n",
        "    print(\"*\", end=' ')\n",
        "  print(\" \")\n",
        "for i in range(rows,0,-1):\n",
        "  for j in range(0,i-1):\n",
        "    print(\"*\", end=' ')\n",
        "  print(\" \")"
      ],
      "metadata": {
        "id": "mmhOLB4mnj89",
        "colab": {
          "base_uri": "https://localhost:8080/"
        },
        "outputId": "eef6394d-6e53-4734-f77b-27949a8dee27"
      },
      "execution_count": 75,
      "outputs": [
        {
          "output_type": "stream",
          "name": "stdout",
          "text": [
            "*  \n",
            "* *  \n",
            "* * *  \n",
            "* * * *  \n",
            "* * * * *  \n",
            "* * * * * *  \n",
            "* * * * *  \n",
            "* * * *  \n",
            "* * *  \n",
            "* *  \n",
            "*  \n",
            " \n"
          ]
        }
      ]
    }
  ]
}